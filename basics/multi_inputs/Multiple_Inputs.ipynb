{
 "cells": [
  {
   "cell_type": "code",
   "execution_count": 1,
   "id": "4582e626",
   "metadata": {},
   "outputs": [],
   "source": [
    "from typing import TypedDict, List\n",
    "from langgraph.graph import StateGraph"
   ]
  },
  {
   "cell_type": "code",
   "execution_count": 2,
   "id": "7053e774",
   "metadata": {},
   "outputs": [],
   "source": [
    "class AgentState(TypedDict):\n",
    "    values: List[int]\n",
    "    name: str\n",
    "    result: str\n",
    "\n"
   ]
  },
  {
   "cell_type": "code",
   "execution_count": 3,
   "id": "27049751",
   "metadata": {},
   "outputs": [],
   "source": [
    "def process_values(state: AgentState) -> AgentState:\n",
    "    \"\"\"This is the process_values function, to handle multiple inputs\"\"\"\n",
    "    \n",
    "    state[\"result\"] = f\"Hi there {state['name']}! The sum is {sum(state[\"values\"])}\"\n",
    "    return state"
   ]
  },
  {
   "cell_type": "code",
   "execution_count": 5,
   "id": "c4dd6a08",
   "metadata": {},
   "outputs": [],
   "source": [
    "graph = StateGraph(AgentState)\n",
    "\n",
    "graph.add_node('processor', process_values)\n",
    "\n",
    "graph.set_entry_point('processor')\n",
    "graph.set_finish_point('processor')\n",
    "\n",
    "app = graph.compile()"
   ]
  },
  {
   "cell_type": "code",
   "execution_count": 6,
   "id": "cf19e371",
   "metadata": {},
   "outputs": [],
   "source": [
    "answer = app.invoke({\"values\": [1, 2, 3, 4], \"name\": \"Elpoeta\"})"
   ]
  },
  {
   "cell_type": "code",
   "execution_count": 7,
   "id": "701ad8ad",
   "metadata": {},
   "outputs": [
    {
     "data": {
      "text/plain": [
       "'Hi there Elpoeta! The sum is 10'"
      ]
     },
     "execution_count": 7,
     "metadata": {},
     "output_type": "execute_result"
    }
   ],
   "source": [
    "answer[\"result\"]"
   ]
  }
 ],
 "metadata": {
  "kernelspec": {
   "display_name": ".venv",
   "language": "python",
   "name": "python3"
  },
  "language_info": {
   "codemirror_mode": {
    "name": "ipython",
    "version": 3
   },
   "file_extension": ".py",
   "mimetype": "text/x-python",
   "name": "python",
   "nbconvert_exporter": "python",
   "pygments_lexer": "ipython3",
   "version": "3.12.3"
  }
 },
 "nbformat": 4,
 "nbformat_minor": 5
}
